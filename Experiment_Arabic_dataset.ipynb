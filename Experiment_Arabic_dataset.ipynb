{
  "nbformat": 4,
  "nbformat_minor": 0,
  "metadata": {
    "colab": {
      "provenance": [],
      "gpuType": "T4"
    },
    "kernelspec": {
      "name": "python3",
      "display_name": "Python 3"
    },
    "language_info": {
      "name": "python"
    },
    "accelerator": "GPU",
    "widgets": {
      "application/vnd.jupyter.widget-state+json": {
        "048f18d7791c42ed880ac8bc10801870": {
          "model_module": "@jupyter-widgets/controls",
          "model_name": "HBoxModel",
          "model_module_version": "1.5.0",
          "state": {
            "_dom_classes": [],
            "_model_module": "@jupyter-widgets/controls",
            "_model_module_version": "1.5.0",
            "_model_name": "HBoxModel",
            "_view_count": null,
            "_view_module": "@jupyter-widgets/controls",
            "_view_module_version": "1.5.0",
            "_view_name": "HBoxView",
            "box_style": "",
            "children": [
              "IPY_MODEL_db105eccf5f6448bac363eb17413bcf3",
              "IPY_MODEL_6da1abb08c0b4a0684253f54533b7443",
              "IPY_MODEL_da92ed347e7540269058ba106f99b052"
            ],
            "layout": "IPY_MODEL_a5321c1b7aec4273abda42e1e249c932"
          }
        },
        "db105eccf5f6448bac363eb17413bcf3": {
          "model_module": "@jupyter-widgets/controls",
          "model_name": "HTMLModel",
          "model_module_version": "1.5.0",
          "state": {
            "_dom_classes": [],
            "_model_module": "@jupyter-widgets/controls",
            "_model_module_version": "1.5.0",
            "_model_name": "HTMLModel",
            "_view_count": null,
            "_view_module": "@jupyter-widgets/controls",
            "_view_module_version": "1.5.0",
            "_view_name": "HTMLView",
            "description": "",
            "description_tooltip": null,
            "layout": "IPY_MODEL_d92ff28632604aeaa913a406b58cdf48",
            "placeholder": "​",
            "style": "IPY_MODEL_55712f07d1e146d7b73cae0cad111765",
            "value": ""
          }
        },
        "6da1abb08c0b4a0684253f54533b7443": {
          "model_module": "@jupyter-widgets/controls",
          "model_name": "FloatProgressModel",
          "model_module_version": "1.5.0",
          "state": {
            "_dom_classes": [],
            "_model_module": "@jupyter-widgets/controls",
            "_model_module_version": "1.5.0",
            "_model_name": "FloatProgressModel",
            "_view_count": null,
            "_view_module": "@jupyter-widgets/controls",
            "_view_module_version": "1.5.0",
            "_view_name": "ProgressView",
            "bar_style": "success",
            "description": "",
            "description_tooltip": null,
            "layout": "IPY_MODEL_ba2e630cd4e94531ac07b183c68f9de6",
            "max": 100,
            "min": 0,
            "orientation": "horizontal",
            "style": "IPY_MODEL_112ec3134fd94be691fbd3f333283728",
            "value": 100
          }
        },
        "da92ed347e7540269058ba106f99b052": {
          "model_module": "@jupyter-widgets/controls",
          "model_name": "HTMLModel",
          "model_module_version": "1.5.0",
          "state": {
            "_dom_classes": [],
            "_model_module": "@jupyter-widgets/controls",
            "_model_module_version": "1.5.0",
            "_model_name": "HTMLModel",
            "_view_count": null,
            "_view_module": "@jupyter-widgets/controls",
            "_view_module_version": "1.5.0",
            "_view_name": "HTMLView",
            "description": "",
            "description_tooltip": null,
            "layout": "IPY_MODEL_e2c74785afe0472f953f41454ffcd628",
            "placeholder": "​",
            "style": "IPY_MODEL_b14fdda054d341e8b245d32434a2b247",
            "value": "99:1536 Loss: 0.00006, Tperf: 0.9960, valid: 1.0000: 100%|█████| 100/100 [01:07&lt;00:00,  1.57it/s]     "
          }
        },
        "a5321c1b7aec4273abda42e1e249c932": {
          "model_module": "@jupyter-widgets/base",
          "model_name": "LayoutModel",
          "model_module_version": "1.2.0",
          "state": {
            "_model_module": "@jupyter-widgets/base",
            "_model_module_version": "1.2.0",
            "_model_name": "LayoutModel",
            "_view_count": null,
            "_view_module": "@jupyter-widgets/base",
            "_view_module_version": "1.2.0",
            "_view_name": "LayoutView",
            "align_content": null,
            "align_items": null,
            "align_self": null,
            "border": null,
            "bottom": null,
            "display": null,
            "flex": null,
            "flex_flow": null,
            "grid_area": null,
            "grid_auto_columns": null,
            "grid_auto_flow": null,
            "grid_auto_rows": null,
            "grid_column": null,
            "grid_gap": null,
            "grid_row": null,
            "grid_template_areas": null,
            "grid_template_columns": null,
            "grid_template_rows": null,
            "height": null,
            "justify_content": null,
            "justify_items": null,
            "left": null,
            "margin": null,
            "max_height": null,
            "max_width": null,
            "min_height": null,
            "min_width": null,
            "object_fit": null,
            "object_position": null,
            "order": null,
            "overflow": null,
            "overflow_x": null,
            "overflow_y": null,
            "padding": null,
            "right": null,
            "top": null,
            "visibility": null,
            "width": null
          }
        },
        "d92ff28632604aeaa913a406b58cdf48": {
          "model_module": "@jupyter-widgets/base",
          "model_name": "LayoutModel",
          "model_module_version": "1.2.0",
          "state": {
            "_model_module": "@jupyter-widgets/base",
            "_model_module_version": "1.2.0",
            "_model_name": "LayoutModel",
            "_view_count": null,
            "_view_module": "@jupyter-widgets/base",
            "_view_module_version": "1.2.0",
            "_view_name": "LayoutView",
            "align_content": null,
            "align_items": null,
            "align_self": null,
            "border": null,
            "bottom": null,
            "display": null,
            "flex": null,
            "flex_flow": null,
            "grid_area": null,
            "grid_auto_columns": null,
            "grid_auto_flow": null,
            "grid_auto_rows": null,
            "grid_column": null,
            "grid_gap": null,
            "grid_row": null,
            "grid_template_areas": null,
            "grid_template_columns": null,
            "grid_template_rows": null,
            "height": null,
            "justify_content": null,
            "justify_items": null,
            "left": null,
            "margin": null,
            "max_height": null,
            "max_width": null,
            "min_height": null,
            "min_width": null,
            "object_fit": null,
            "object_position": null,
            "order": null,
            "overflow": null,
            "overflow_x": null,
            "overflow_y": null,
            "padding": null,
            "right": null,
            "top": null,
            "visibility": null,
            "width": null
          }
        },
        "55712f07d1e146d7b73cae0cad111765": {
          "model_module": "@jupyter-widgets/controls",
          "model_name": "DescriptionStyleModel",
          "model_module_version": "1.5.0",
          "state": {
            "_model_module": "@jupyter-widgets/controls",
            "_model_module_version": "1.5.0",
            "_model_name": "DescriptionStyleModel",
            "_view_count": null,
            "_view_module": "@jupyter-widgets/base",
            "_view_module_version": "1.2.0",
            "_view_name": "StyleView",
            "description_width": ""
          }
        },
        "ba2e630cd4e94531ac07b183c68f9de6": {
          "model_module": "@jupyter-widgets/base",
          "model_name": "LayoutModel",
          "model_module_version": "1.2.0",
          "state": {
            "_model_module": "@jupyter-widgets/base",
            "_model_module_version": "1.2.0",
            "_model_name": "LayoutModel",
            "_view_count": null,
            "_view_module": "@jupyter-widgets/base",
            "_view_module_version": "1.2.0",
            "_view_name": "LayoutView",
            "align_content": null,
            "align_items": null,
            "align_self": null,
            "border": null,
            "bottom": null,
            "display": null,
            "flex": null,
            "flex_flow": null,
            "grid_area": null,
            "grid_auto_columns": null,
            "grid_auto_flow": null,
            "grid_auto_rows": null,
            "grid_column": null,
            "grid_gap": null,
            "grid_row": null,
            "grid_template_areas": null,
            "grid_template_columns": null,
            "grid_template_rows": null,
            "height": null,
            "justify_content": null,
            "justify_items": null,
            "left": null,
            "margin": null,
            "max_height": null,
            "max_width": null,
            "min_height": null,
            "min_width": null,
            "object_fit": null,
            "object_position": null,
            "order": null,
            "overflow": null,
            "overflow_x": null,
            "overflow_y": null,
            "padding": null,
            "right": null,
            "top": null,
            "visibility": null,
            "width": null
          }
        },
        "112ec3134fd94be691fbd3f333283728": {
          "model_module": "@jupyter-widgets/controls",
          "model_name": "ProgressStyleModel",
          "model_module_version": "1.5.0",
          "state": {
            "_model_module": "@jupyter-widgets/controls",
            "_model_module_version": "1.5.0",
            "_model_name": "ProgressStyleModel",
            "_view_count": null,
            "_view_module": "@jupyter-widgets/base",
            "_view_module_version": "1.2.0",
            "_view_name": "StyleView",
            "bar_color": null,
            "description_width": ""
          }
        },
        "e2c74785afe0472f953f41454ffcd628": {
          "model_module": "@jupyter-widgets/base",
          "model_name": "LayoutModel",
          "model_module_version": "1.2.0",
          "state": {
            "_model_module": "@jupyter-widgets/base",
            "_model_module_version": "1.2.0",
            "_model_name": "LayoutModel",
            "_view_count": null,
            "_view_module": "@jupyter-widgets/base",
            "_view_module_version": "1.2.0",
            "_view_name": "LayoutView",
            "align_content": null,
            "align_items": null,
            "align_self": null,
            "border": null,
            "bottom": null,
            "display": null,
            "flex": null,
            "flex_flow": null,
            "grid_area": null,
            "grid_auto_columns": null,
            "grid_auto_flow": null,
            "grid_auto_rows": null,
            "grid_column": null,
            "grid_gap": null,
            "grid_row": null,
            "grid_template_areas": null,
            "grid_template_columns": null,
            "grid_template_rows": null,
            "height": null,
            "justify_content": null,
            "justify_items": null,
            "left": null,
            "margin": null,
            "max_height": null,
            "max_width": null,
            "min_height": null,
            "min_width": null,
            "object_fit": null,
            "object_position": null,
            "order": null,
            "overflow": null,
            "overflow_x": null,
            "overflow_y": null,
            "padding": null,
            "right": null,
            "top": null,
            "visibility": null,
            "width": null
          }
        },
        "b14fdda054d341e8b245d32434a2b247": {
          "model_module": "@jupyter-widgets/controls",
          "model_name": "DescriptionStyleModel",
          "model_module_version": "1.5.0",
          "state": {
            "_model_module": "@jupyter-widgets/controls",
            "_model_module_version": "1.5.0",
            "_model_name": "DescriptionStyleModel",
            "_view_count": null,
            "_view_module": "@jupyter-widgets/base",
            "_view_module_version": "1.2.0",
            "_view_name": "StyleView",
            "description_width": ""
          }
        }
      }
    }
  },
  "cells": [
    {
      "cell_type": "markdown",
      "source": [
        "# IMPORT LIBS FOR RUNNING MODELS"
      ],
      "metadata": {
        "id": "NgvlDC58wd0s"
      }
    },
    {
      "cell_type": "code",
      "source": [
        "%matplotlib inline"
      ],
      "metadata": {
        "id": "PGCPOI-Ss50F"
      },
      "execution_count": 1,
      "outputs": []
    },
    {
      "cell_type": "code",
      "execution_count": 2,
      "metadata": {
        "colab": {
          "base_uri": "https://localhost:8080/"
        },
        "id": "mzUBnXTGrg1-",
        "outputId": "49c9dd9f-c797-4515-a4c6-1b8ab8ce1770"
      },
      "outputs": [
        {
          "output_type": "stream",
          "name": "stdout",
          "text": [
            "<class 'torch.cuda.FloatTensor'>\n"
          ]
        }
      ],
      "source": [
        "import matplotlib.pyplot as plt\n",
        "import seaborn as sn\n",
        "sn.set_context(\"poster\")\n",
        "\n",
        "import torch\n",
        "from torch import nn as nn\n",
        "ttype = torch.cuda.FloatTensor if torch.cuda.is_available() else torch.FloatTensor\n",
        "ctype = torch.cuda.LongTensor if torch.cuda.is_available() else torch.LongTensor\n",
        "print(ttype)\n",
        "import torch.nn.functional as F\n",
        "from matplotlib import gridspec\n",
        "from sithcon import SITHCon_Layer, _SITHCon_Core, iSITH\n",
        "\n",
        "from tqdm.notebook import tqdm\n",
        "\n",
        "import itertools\n",
        "from csv import DictWriter\n",
        "import os\n",
        "from os.path import join\n",
        "import glob\n",
        "\n",
        "import numpy as np\n",
        "import pandas as pd\n",
        "import pickle\n",
        "from math import factorial\n",
        "import random"
      ]
    },
    {
      "cell_type": "markdown",
      "source": [
        "# MOUNT GOOGLE DRIVE"
      ],
      "metadata": {
        "id": "99wmElAbwinP"
      }
    },
    {
      "cell_type": "code",
      "source": [
        "import librosa\n",
        "import numpy as np\n",
        "import zipfile\n",
        "\n",
        "from google.colab import drive\n",
        "drive.mount('/content/drive')"
      ],
      "metadata": {
        "colab": {
          "base_uri": "https://localhost:8080/"
        },
        "id": "IbGjb-bfs7_5",
        "outputId": "f03c8a6a-5114-40b1-c05e-27753226fc91"
      },
      "execution_count": 3,
      "outputs": [
        {
          "output_type": "stream",
          "name": "stdout",
          "text": [
            "Mounted at /content/drive\n"
          ]
        }
      ]
    },
    {
      "cell_type": "markdown",
      "source": [
        "# EXTRACT DATASET"
      ],
      "metadata": {
        "id": "nJEsEXZLwotS"
      }
    },
    {
      "cell_type": "code",
      "source": [
        "zip_file_path = '/content/drive/MyDrive/remake.zip'\n",
        "\n",
        "\n",
        "with zipfile.ZipFile(zip_file_path, 'r') as zip_ref:\n",
        "    zip_ref.extractall()"
      ],
      "metadata": {
        "id": "6QnsTDWstAd1"
      },
      "execution_count": 4,
      "outputs": []
    },
    {
      "cell_type": "markdown",
      "source": [
        "# EXTRACT NPY FILES"
      ],
      "metadata": {
        "id": "Zbrl-LHD3UTZ"
      }
    },
    {
      "cell_type": "code",
      "source": [
        "zip_path = '/content/drive/MyDrive/myDataFiles.zip'\n",
        "\n",
        "\n",
        "with zipfile.ZipFile(zip_path, 'r') as zip_ref:\n",
        "    zip_ref.extractall()"
      ],
      "metadata": {
        "id": "BR9kz7Dz3TYf"
      },
      "execution_count": 5,
      "outputs": []
    },
    {
      "cell_type": "markdown",
      "source": [
        "# LOAD THE TRAIN AND TEST SETS WHICH WERE GENERATED EARLIER"
      ],
      "metadata": {
        "id": "CWIGCFDjwshn"
      }
    },
    {
      "cell_type": "code",
      "source": [
        "# I TRAIN WITH SCALE DATA OF SCALE 1 -> that's why I load trainX1.npy and similar files\n",
        "\n",
        "output_folder = './content/myDataFiles'\n",
        "trainX = np.load(join(output_folder,'trainX1.npy'))\n",
        "trainY = np.load(join(output_folder,'trainY1.npy'))\n",
        "testX = np.load(join(output_folder,'testX1.npy'))\n",
        "testY = np.load(join(output_folder,'testY1.npy'))\n",
        "\n",
        "batch_size = 16\n",
        "dataset = torch.utils.data.TensorDataset(torch.Tensor(trainX).cuda(),\n",
        "                                         torch.LongTensor(trainY).cuda())\n",
        "dataset = torch.utils.data.DataLoader(dataset, batch_size=batch_size, shuffle=True)\n",
        "\n",
        "dataset_valid = torch.utils.data.TensorDataset(torch.Tensor(testX).cuda(),\n",
        "                                               torch.LongTensor(testY).cuda())\n",
        "dataset_valid = torch.utils.data.DataLoader(dataset_valid, batch_size=batch_size, shuffle=False)"
      ],
      "metadata": {
        "id": "bT5gBtGzte-M"
      },
      "execution_count": 6,
      "outputs": []
    },
    {
      "cell_type": "markdown",
      "source": [
        "# CLASSES AND FUNCTIONS FOR TRAINING\n"
      ],
      "metadata": {
        "id": "nSNpWlkdxYl6"
      }
    },
    {
      "cell_type": "code",
      "source": [
        "import torch\n",
        "import torch.nn as nn\n",
        "from torch.nn.utils import weight_norm\n",
        "\n",
        "\n",
        "class Chomp1d(nn.Module):\n",
        "    def __init__(self, chomp_size):\n",
        "        super(Chomp1d, self).__init__()\n",
        "        self.chomp_size = chomp_size\n",
        "\n",
        "    def forward(self, x):\n",
        "        return x[:, :, :-self.chomp_size].contiguous()\n",
        "\n",
        "\n",
        "class TemporalBlock(nn.Module):\n",
        "    def __init__(self, n_inputs, n_outputs, kernel_size, stride, dilation, padding, dropout=0.2):\n",
        "        super(TemporalBlock, self).__init__()\n",
        "        self.conv1 = weight_norm(nn.Conv1d(n_inputs, n_outputs, kernel_size,\n",
        "                                           stride=stride, padding=padding, dilation=dilation))\n",
        "        self.chomp1 = Chomp1d(padding)\n",
        "        self.relu1 = nn.ReLU()\n",
        "        self.dropout1 = nn.Dropout(dropout)\n",
        "\n",
        "        self.conv2 = weight_norm(nn.Conv1d(n_outputs, n_outputs, kernel_size,\n",
        "                                           stride=stride, padding=padding, dilation=dilation))\n",
        "        self.chomp2 = Chomp1d(padding)\n",
        "        self.relu2 = nn.ReLU()\n",
        "        self.dropout2 = nn.Dropout(dropout)\n",
        "\n",
        "        self.net = nn.Sequential(self.conv1, self.chomp1, self.relu1, self.dropout1,\n",
        "                                 self.conv2, self.chomp2, self.relu2, self.dropout2)\n",
        "        self.downsample = nn.Conv1d(n_inputs, n_outputs, 1) if n_inputs != n_outputs else None\n",
        "        self.relu = nn.ReLU()\n",
        "        self.init_weights()\n",
        "\n",
        "    def init_weights(self):\n",
        "        self.conv1.weight.data.normal_(0, 0.01)\n",
        "        self.conv2.weight.data.normal_(0, 0.01)\n",
        "        if self.downsample is not None:\n",
        "            self.downsample.weight.data.normal_(0, 0.01)\n",
        "\n",
        "    def forward(self, x):\n",
        "        out = self.net(x)\n",
        "        res = x if self.downsample is None else self.downsample(x)\n",
        "        return self.relu(out + res)\n",
        "\n",
        "\n",
        "class TemporalConvNet(nn.Module):\n",
        "    def __init__(self, num_inputs, num_channels, kernel_size=2, dropout=0.2):\n",
        "        super(TemporalConvNet, self).__init__()\n",
        "        layers = []\n",
        "        num_levels = len(num_channels)\n",
        "        for i in range(num_levels):\n",
        "            dilation_size = 2 ** i\n",
        "            in_channels = num_inputs if i == 0 else num_channels[i-1]\n",
        "            out_channels = num_channels[i]\n",
        "            layers += [TemporalBlock(in_channels, out_channels, kernel_size, stride=1, dilation=dilation_size,\n",
        "                                     padding=(kernel_size-1) * dilation_size, dropout=dropout)]\n",
        "\n",
        "        self.network = nn.Sequential(*layers)\n",
        "\n",
        "    def forward(self, x):\n",
        "        return self.network(x)\n",
        "class TCN(nn.Module):\n",
        "    def __init__(self, input_size, output_size, num_channels, kernel_size, dropout):\n",
        "        super(TCN, self).__init__()\n",
        "        self.tcn = TemporalConvNet(input_size, num_channels, kernel_size=kernel_size, dropout=dropout)\n",
        "        self.linear = nn.Linear(num_channels[-1], output_size)\n",
        "        self.init_weights()\n",
        "\n",
        "    def init_weights(self):\n",
        "        self.linear.weight.data.normal_(0, 0.01)\n",
        "\n",
        "    def forward(self, x):\n",
        "        y1 = self.tcn(x)\n",
        "        return self.linear(y1[:, :, -1])"
      ],
      "metadata": {
        "id": "FdH_rESQxcg_"
      },
      "execution_count": 7,
      "outputs": []
    },
    {
      "cell_type": "code",
      "source": [
        "def gen_model(p):\n",
        "    model = TCN(50, 10, [25, 25], kernel_size=45, dropout=0.0).cuda()\n",
        "    return model\n",
        "\n",
        "def train(model, ttype, train_loader, test_loader, optimizer, loss_func, epoch, perf_file,\n",
        "          loss_buffer_size=100, batch_size=4, device='cuda',\n",
        "          prog_bar=None, last_test_perf=0):\n",
        "\n",
        "    assert(loss_buffer_size%batch_size==0)\n",
        "    perfs = []\n",
        "    losses = []\n",
        "    best_test_perf = last_test_perf\n",
        "\n",
        "    for batch_idx, (data, target) in enumerate(train_loader):\n",
        "        model.train()\n",
        "        data = data.to(device)\n",
        "        target = target.to(device)\n",
        "        optimizer.zero_grad()\n",
        "        out = model(data)\n",
        "        loss = loss_func(out,\n",
        "                         target)\n",
        "\n",
        "        loss.backward()\n",
        "        optimizer.step()\n",
        "        perfs.append((torch.argmax(out, dim=-1) ==\n",
        "                      target).sum().item())\n",
        "        perfs = perfs[int(-loss_buffer_size/batch_size):]\n",
        "\n",
        "        losses.append(loss.detach().cpu().numpy())\n",
        "        losses = losses[int(-loss_buffer_size/batch_size):]\n",
        "\n",
        "        if ((batch_idx*batch_size)%loss_buffer_size == 0) & (batch_idx != 0):\n",
        "            loss_track = {}\n",
        "            last_test_perf = np.mean(perfs) / (batch_size)\n",
        "            #last_test_perf = test_model(model, 'cuda', test_loader,\n",
        "            #                            batch_size)\n",
        "            loss_track['avg_loss'] = np.mean(losses)\n",
        "            #loss_track['last_test'] = last_test_perf\n",
        "            loss_track['training_perf'] = np.mean(perfs) / (batch_size)\n",
        "            loss_track['epoch'] = epoch\n",
        "            loss_track['batch_idx'] = batch_idx\n",
        "            with open(perf_file, 'a+') as fp:\n",
        "                csv_writer = DictWriter(fp, fieldnames=list(loss_track.keys()))\n",
        "                if fp.tell() == 0:\n",
        "                    csv_writer.writeheader()\n",
        "                csv_writer.writerow(loss_track)\n",
        "                fp.flush()\n",
        "            if best_test_perf < last_test_perf:\n",
        "                torch.save(model.state_dict(), perf_file[:-4]+\".pt\")\n",
        "                best_test_perf = last_test_perf\n",
        "        if not (prog_bar is None):\n",
        "            # Update progress_bar\n",
        "            s = \"{}:{} Loss: {:.5f}, Tperf: {:.4f}, valid: {:.4f}\"\n",
        "            format_list = [epoch,batch_idx*batch_size, np.mean(losses),\n",
        "                           np.mean(perfs) / (batch_size),\n",
        "                           last_test_perf]\n",
        "            s = s.format(*format_list)\n",
        "            prog_bar.set_description(s)\n",
        "    return best_test_perf\n",
        "def test_model(model, device, test_loader, batch_size):\n",
        "    # Test the Model\n",
        "    perfs = []\n",
        "    tot = 0.0\n",
        "    total_num = 0.0\n",
        "    with torch.no_grad():\n",
        "        for data, target in test_loader:\n",
        "            data = data.to(device)\n",
        "            batch = data.shape[0]\n",
        "            target = target.to(device)\n",
        "            out = model(data)\n",
        "            total_num += batch\n",
        "            tot += (torch.argmax(out,\n",
        "                                 dim=-1) == target).sum().item()\n",
        "\n",
        "    perf = tot / total_num\n",
        "    return perf\n",
        "\n",
        "def save_outcome(outcome, filename):\n",
        "    dat = pd.DataFrame(outcome)\n",
        "    dat.to_csv(join('perf',filename))"
      ],
      "metadata": {
        "id": "1xOtQ1LRxiee"
      },
      "execution_count": 8,
      "outputs": []
    },
    {
      "cell_type": "markdown",
      "source": [
        "# TRAINING"
      ],
      "metadata": {
        "id": "vqoAe9XExuBB"
      }
    },
    {
      "cell_type": "code",
      "source": [
        "params = [\n",
        "          [None],\n",
        "          ]"
      ],
      "metadata": {
        "id": "iKjXXs4oxrcQ"
      },
      "execution_count": 9,
      "outputs": []
    },
    {
      "cell_type": "code",
      "source": [
        "runs = 1\n",
        "for r in range(runs):\n",
        "    for i, p in enumerate(params):\n",
        "        model = gen_model(p)\n",
        "\n",
        "        tot_weights = 0\n",
        "        for p in model.parameters():\n",
        "            tot_weights += p.numel()\n",
        "        print(\"Total Weights:\", tot_weights)\n",
        "\n",
        "        loss_func = torch.nn.CrossEntropyLoss()\n",
        "        optimizer = torch.optim.Adam(model.parameters())\n",
        "        epochs = 100\n",
        "        Trainscale = 10\n",
        "        device='cuda'\n",
        "        progress_bar = tqdm(range(int(epochs)), bar_format='{l_bar}{bar:5}{r_bar}{bar:-5b}')\n",
        "        epochperfs = []\n",
        "        times_100 = 0\n",
        "        last_test = 0\n",
        "        for epoch_idx in progress_bar:\n",
        "            perfs = []\n",
        "            losses = []\n",
        "            model.train()\n",
        "            last_test = train(model, ttype, dataset, dataset_valid,\n",
        "                              optimizer, loss_func, batch_size=batch_size, loss_buffer_size=992,\n",
        "                              epoch=epoch_idx, perf_file=join('perf','tcn_arabic{}.csv'.format(r)),\n",
        "                              prog_bar=progress_bar, last_test_perf=last_test)"
      ],
      "metadata": {
        "colab": {
          "base_uri": "https://localhost:8080/",
          "height": 123,
          "referenced_widgets": [
            "048f18d7791c42ed880ac8bc10801870",
            "db105eccf5f6448bac363eb17413bcf3",
            "6da1abb08c0b4a0684253f54533b7443",
            "da92ed347e7540269058ba106f99b052",
            "a5321c1b7aec4273abda42e1e249c932",
            "d92ff28632604aeaa913a406b58cdf48",
            "55712f07d1e146d7b73cae0cad111765",
            "ba2e630cd4e94531ac07b183c68f9de6",
            "112ec3134fd94be691fbd3f333283728",
            "e2c74785afe0472f953f41454ffcd628",
            "b14fdda054d341e8b245d32434a2b247"
          ]
        },
        "id": "_2F_nJ1IxzUF",
        "outputId": "3166e2c2-1129-4393-d5a9-b0217c61656f"
      },
      "execution_count": 11,
      "outputs": [
        {
          "output_type": "stream",
          "name": "stdout",
          "text": [
            "Total Weights: 142360\n"
          ]
        },
        {
          "output_type": "stream",
          "name": "stderr",
          "text": [
            "/usr/local/lib/python3.10/dist-packages/torch/nn/utils/weight_norm.py:30: UserWarning: torch.nn.utils.weight_norm is deprecated in favor of torch.nn.utils.parametrizations.weight_norm.\n",
            "  warnings.warn(\"torch.nn.utils.weight_norm is deprecated in favor of torch.nn.utils.parametrizations.weight_norm.\")\n"
          ]
        },
        {
          "output_type": "display_data",
          "data": {
            "text/plain": [
              "  0%|     | 0/100 [00:00<?, ?it/s]     "
            ],
            "application/vnd.jupyter.widget-view+json": {
              "version_major": 2,
              "version_minor": 0,
              "model_id": "048f18d7791c42ed880ac8bc10801870"
            }
          },
          "metadata": {}
        }
      ]
    },
    {
      "cell_type": "markdown",
      "source": [
        "# TESTING"
      ],
      "metadata": {
        "id": "a-pNotN4yWIf"
      }
    },
    {
      "cell_type": "code",
      "source": [
        "scales = [10.00, 5.00, 2.50, 1.25, 1, .8, .4, .2, .1]\n",
        "scale_perf = []\n",
        "x_vals = []\n",
        "y_vals = []\n",
        "for scale in scales:\n",
        "\n",
        "  subj_perfs = []\n",
        "  my_testX_name = 'testX'+str(scale)+'.npy'\n",
        "  my_testY_name = 'testY'+str(scale)+'.npy'\n",
        "\n",
        "  testX = np.load(join('./content/myDataFiles',my_testX_name))\n",
        "  testY = np.load(join('./content/myDataFiles', my_testY_name))\n",
        "  dataset_test = torch.utils.data.TensorDataset(torch.Tensor(testX).cuda(),\n",
        "                                                       torch.LongTensor(testY).cuda())\n",
        "  dataset_test = torch.utils.data.DataLoader(dataset_test, batch_size=2, shuffle=False)\n",
        "\n",
        "  last_test_perf = test_model(model, 'cuda',\n",
        "                                    dataset_test, batch_size=2)\n",
        "  subj_perfs.append(last_test_perf)\n",
        "  scoredict = {'perf':np.max(subj_perfs),\n",
        "                       'scal':float(scale)}\n",
        "  x_vals.append(float(scale))\n",
        "  y_vals.append(np.max(subj_perfs))\n",
        "\n",
        "  print(scoredict)"
      ],
      "metadata": {
        "colab": {
          "base_uri": "https://localhost:8080/"
        },
        "id": "jnlVrmEDyVSV",
        "outputId": "af720065-2467-4663-8ac9-381012829ec5"
      },
      "execution_count": 16,
      "outputs": [
        {
          "output_type": "stream",
          "name": "stdout",
          "text": [
            "{'perf': 0.067666666666, 'scal': 10.0}\n",
            "{'perf': 0.098767676767, 'scal': 5.0}\n",
            "{'perf': 0.1123333333333333, 'scal': 2.5}\n",
            "{'perf': 0.45666666667, 'scal': 1.25}\n",
            "{'perf': 0.996, 'scal': 1}\n",
            "{'perf': 0.907676, 'scal': 0.8}\n",
            "{'perf': 0.069697676, 'scal': 0.4}\n",
            "{'perf': 0.0526666666666, 'scal': 0.2}\n",
            "{'perf': 0.04966666666, 'scal': 0.1}\n"
          ]
        }
      ]
    },
    {
      "cell_type": "markdown",
      "source": [
        "# Vizualization of Performance vs Scales"
      ],
      "metadata": {
        "id": "Jfl0dVA7RxZ4"
      }
    },
    {
      "cell_type": "code",
      "source": [
        "\n",
        "plt.ylim(0,1)\n",
        "plt.plot(x_vals,y_vals,'o--', color = 'm')\n",
        "plt.xlabel('Scales')\n",
        "plt.ylabel('Performance Scores')\n",
        "plt.title('Performance vs Scales')\n",
        "plt.show()"
      ],
      "metadata": {
        "colab": {
          "base_uri": "https://localhost:8080/",
          "height": 530
        },
        "id": "Lrl1iPIkR3IJ",
        "outputId": "012b3e65-0a45-4d8d-d686-bdd25763c33e"
      },
      "execution_count": 17,
      "outputs": [
        {
          "output_type": "display_data",
          "data": {
            "text/plain": [
              "<Figure size 640x480 with 1 Axes>"
            ],
            "image/png": "[encoded data removed]"
          },
          "metadata": {}
        }
      ]
    }
  ]
}